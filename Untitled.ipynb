{
 "cells": [
  {
   "cell_type": "markdown",
   "id": "74f6c8f6",
   "metadata": {},
   "source": [
    "# <center>Laboratorium 1<br>Analiza i bazy danych</center>"
   ]
  },
  {
   "cell_type": "markdown",
   "id": "e068a171",
   "metadata": {},
   "source": [
    "***Gabriela Bocheńska***  "
   ]
  },
  {
   "cell_type": "markdown",
   "id": "33a00a9e",
   "metadata": {},
   "source": [
    "Biblioteki niezbędne do wykonania zadania:"
   ]
  },
  {
   "cell_type": "code",
   "execution_count": 6,
   "id": "48ac2e66",
   "metadata": {},
   "outputs": [],
   "source": [
    "import numpy as np\n",
    "import matplotlib.pyplot as plt\n",
    "\n",
    "import pandas as pd"
   ]
  },
  {
   "attachments": {},
   "cell_type": "markdown",
   "id": "05eb7ae1",
   "metadata": {},
   "source": [
    "***Zadanie 1.***  \n",
    "Zainstalowanie środowiska wirtualnego na systemie Windows.\n",
    "![title](zad1.png)\n",
    "Zrzut ekranu wylistowanych zainstalowanych pakietów na systemie Windows.\n",
    "Podczas instalacji wybrana została opcja dodania potrzebnych bibliotek. Dzięki czemu nie była konieczna instalacja pakietó z pliku tektowego requirements.txt."
   ]
  },
  {
   "cell_type": "markdown",
   "id": "f18f607f",
   "metadata": {},
   "source": [
    "***Zadanie 2.*** \n",
    "Utwórz własne repozytorium do przedmiotu na github.com.\n",
    "Link do repozytorium: https://github.com/gbochenska/AiBD.git"
   ]
  },
  {
   "cell_type": "markdown",
   "id": "f57a25c5",
   "metadata": {},
   "source": [
    "***Zadanie 3.*** \n",
    "Zdefiniuj poniższą funkcję i sporządź jej wykres dla argumentów z danego przedziału:\n",
    "$f(x)= x^{3} - 3x$\n",
    "1. $x\\in<-1,1>$  \n",
    "2. $x\\in<-6,6>$  \n",
    "3. $x\\in<0,5>$"
   ]
  },
  {
   "cell_type": "code",
   "execution_count": 7,
   "id": "10037ab8",
   "metadata": {},
   "outputs": [
    {
     "data": {
      "image/png": "[encoded data removed]",
      "text/plain": [
       "<Figure size 432x288 with 1 Axes>"
      ]
     },
     "metadata": {
      "needs_background": "light"
     },
     "output_type": "display_data"
    }
   ],
   "source": [
    "def f(x):\n",
    "    return x*x + 5\n",
    "\n",
    "x1 = np.linspace(-1,1)\n",
    "x2 = np.linspace(-6, 6)\n",
    "x3 = np.linspace(0, 5)\n",
    "\n",
    "plt.plot(x2, f(x2), 'y', linewidth = 5)\n",
    "plt.plot(x3, f(x3), 'r', linewidth = 3)\n",
    "plt.plot(x1, f(x1), 'b', linewidth = 1)\n",
    "plt.title(\"Wykres funkcji f(x)=x^2+5\")\n",
    "plt.xlabel(\"x\")\n",
    "plt.ylabel(\"f(x)\")\n",
    "plt.legend([(-6,6), (0, 5), (-1, 1)])\n",
    "plt.show()"
   ]
  },
  {
   "cell_type": "markdown",
   "id": "3dc0e926",
   "metadata": {},
   "source": [
    "***Zadanie 4.*** \n",
    "Utwórz dataframe, w którym kolumny mają nazwy: name, surname, age, sex. Uzupełnij pięcioma dowolnymi rekordami."
   ]
  },
  {
   "cell_type": "code",
   "execution_count": 8,
   "id": "f126c36f",
   "metadata": {},
   "outputs": [
    {
     "name": "stdout",
     "output_type": "stream",
     "text": [
      "Informacje o danych: \n",
      "\n",
      "<class 'pandas.core.frame.DataFrame'>\n",
      "RangeIndex: 5 entries, 0 to 4\n",
      "Data columns (total 4 columns):\n",
      " #   Column   Non-Null Count  Dtype \n",
      "---  ------   --------------  ----- \n",
      " 0   name     5 non-null      object\n",
      " 1   surname  5 non-null      object\n",
      " 2   age      5 non-null      int64 \n",
      " 3   sex      5 non-null      object\n",
      "dtypes: int64(1), object(3)\n",
      "memory usage: 288.0+ bytes\n",
      "None\n",
      "\n",
      "\n",
      "Opis danych:\n",
      "             age\n",
      "count   5.000000\n",
      "mean   19.000000\n",
      "std     1.581139\n",
      "min    17.000000\n",
      "25%    18.000000\n",
      "50%    19.000000\n",
      "75%    20.000000\n",
      "max    21.000000\n",
      "\n",
      "\n",
      "Pierwsze trzy rekordy\n",
      "       name    surname  age     sex\n",
      "0  Gabriela  Bocheńska   21  female\n",
      "1     Jakub   Kowalski   20    male\n",
      "2     Julia      Nowak   19  female\n"
     ]
    }
   ],
   "source": [
    "d = {'name': ['Gabriela', 'Jakub', 'Julia', 'Dominika', 'Tomasz'],\n",
    "     'surname': ['Bocheńska', 'Kowalski', 'Nowak', 'Wiśniewska', 'Kowalczyk'],\n",
    "     'age': [21, 20, 19, 18, 17], 'sex': ['female', 'male', 'female', 'female', 'male']}\n",
    "df = pd.DataFrame(data=d)\n",
    "\n",
    "print(\"Informacje o danych: \\n\")\n",
    "print(df.info())\n",
    "print(\"\\n\\nOpis danych:\")\n",
    "print(df.describe())\n",
    "print(\"\\n\\nPierwsze trzy rekordy\")\n",
    "print(df.head(3))"
   ]
  },
  {
   "cell_type": "markdown",
   "id": "4f8cdca8",
   "metadata": {},
   "source": [
    "Wnioski:\n",
    "1. Wykonując wizualizację należy pamiętać o odpowiednim doborze kolorów, grubości linii oraz odpowiedniej legendzie aby każdy z wykresów był widoczny. Podpis osi oraz tytuł mówi nam z jakimi danymi spotykamy się.\n",
    "2. Pakiet pandas służy do manipulacji danymi. Dzięki niemu możemy przetwarzać dane na różny sposób aby uzyskać możliwość operowania nimi w dogodny sposób."
   ]
  },
  {
   "cell_type": "code",
   "execution_count": null,
   "id": "f2e9452c",
   "metadata": {},
   "outputs": [],
   "source": []
  }
 ],
 "metadata": {
  "kernelspec": {
   "display_name": "gabrielabochenska",
   "language": "python",
   "name": "gabrielabochenska"
  },
  "language_info": {
   "codemirror_mode": {
    "name": "ipython",
    "version": 3
   },
   "file_extension": ".py",
   "mimetype": "text/x-python",
   "name": "python",
   "nbconvert_exporter": "python",
   "pygments_lexer": "ipython3",
   "version": "3.9.12"
  }
 },
 "nbformat": 4,
 "nbformat_minor": 5
}
